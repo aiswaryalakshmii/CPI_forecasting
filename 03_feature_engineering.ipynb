{
 "cells": [
  {
   "cell_type": "code",
   "execution_count": 20,
   "id": "bd113418-43b3-493f-ad49-c429a7171047",
   "metadata": {},
   "outputs": [],
   "source": [
    "import numpy as np\n",
    "import pandas as pd"
   ]
  },
  {
   "cell_type": "code",
   "execution_count": 6,
   "id": "21cb5715-1c6a-4362-9199-eb4d852cbbaa",
   "metadata": {},
   "outputs": [],
   "source": [
    "path = \"path/weighted_cpi.csv\""
   ]
  },
  {
   "cell_type": "code",
   "execution_count": 7,
   "id": "55ded369-8228-40c1-9bad-828517f80cd3",
   "metadata": {},
   "outputs": [
    {
     "data": {
      "text/html": [
       "<div>\n",
       "<style scoped>\n",
       "    .dataframe tbody tr th:only-of-type {\n",
       "        vertical-align: middle;\n",
       "    }\n",
       "\n",
       "    .dataframe tbody tr th {\n",
       "        vertical-align: top;\n",
       "    }\n",
       "\n",
       "    .dataframe thead th {\n",
       "        text-align: right;\n",
       "    }\n",
       "</style>\n",
       "<table border=\"1\" class=\"dataframe\">\n",
       "  <thead>\n",
       "    <tr style=\"text-align: right;\">\n",
       "      <th></th>\n",
       "      <th>Date</th>\n",
       "      <th>Weighted_CPI</th>\n",
       "    </tr>\n",
       "  </thead>\n",
       "  <tbody>\n",
       "    <tr>\n",
       "      <th>0</th>\n",
       "      <td>2016-09-01</td>\n",
       "      <td>131.513916</td>\n",
       "    </tr>\n",
       "    <tr>\n",
       "      <th>1</th>\n",
       "      <td>2016-10-01</td>\n",
       "      <td>132.032540</td>\n",
       "    </tr>\n",
       "    <tr>\n",
       "      <th>2</th>\n",
       "      <td>2016-11-01</td>\n",
       "      <td>131.719926</td>\n",
       "    </tr>\n",
       "    <tr>\n",
       "      <th>3</th>\n",
       "      <td>2016-12-01</td>\n",
       "      <td>130.562107</td>\n",
       "    </tr>\n",
       "    <tr>\n",
       "      <th>4</th>\n",
       "      <td>2017-01-01</td>\n",
       "      <td>130.233160</td>\n",
       "    </tr>\n",
       "  </tbody>\n",
       "</table>\n",
       "</div>"
      ],
      "text/plain": [
       "         Date  Weighted_CPI\n",
       "0  2016-09-01    131.513916\n",
       "1  2016-10-01    132.032540\n",
       "2  2016-11-01    131.719926\n",
       "3  2016-12-01    130.562107\n",
       "4  2017-01-01    130.233160"
      ]
     },
     "execution_count": 7,
     "metadata": {},
     "output_type": "execute_result"
    }
   ],
   "source": [
    "weighted_cpi= pd.read_csv(path)\n",
    "weighted_cpi.head()"
   ]
  },
  {
   "cell_type": "code",
   "execution_count": 8,
   "id": "d6dc4926-f81e-4067-8f3c-d7990bc3d174",
   "metadata": {},
   "outputs": [],
   "source": [
    "#to format date to datetime\n",
    "weighted_cpi[\"Date\"] = pd.to_datetime(weighted_cpi[\"Date\"])\n",
    "\n",
    "# Sorting by date\n",
    "weighted_cpi = weighted_cpi.sort_values(\"Date\").reset_index(drop=True)"
   ]
  },
  {
   "cell_type": "markdown",
   "id": "91d2f602-23f1-44d2-9f85-3aef4fd47e21",
   "metadata": {},
   "source": [
    "1. Month-over-month percentage change:\n",
    "Captures short-term trends and momentum, helping models understand recent growth or decline in values."
   ]
  },
  {
   "cell_type": "code",
   "execution_count": 11,
   "id": "2fe04ed5-0090-4345-b381-e4692148fd50",
   "metadata": {},
   "outputs": [],
   "source": [
    "# 1. Month-over-month percentage change\n",
    "weighted_cpi[\"CPI_pct_change\"] = weighted_cpi[\"Weighted_CPI\"].pct_change() * 100"
   ]
  },
  {
   "cell_type": "markdown",
   "id": "69066f2f-063b-4793-aca7-0d8741c978bf",
   "metadata": {},
   "source": [
    "2. Year-over-year (YoY) percentage change:\n",
    "Accounts for seasonality, allowing comparison with the same period in the previous year to identify repeating annual patterns."
   ]
  },
  {
   "cell_type": "code",
   "execution_count": 12,
   "id": "e487f3cb-8046-43e3-b372-c4e127541fd1",
   "metadata": {},
   "outputs": [],
   "source": [
    "# 2. Year-over-year (YoY) percentage change (12 months difference)\n",
    "weighted_cpi[\"CPI_yoy_change\"] = weighted_cpi[\"Weighted_CPI\"].pct_change(periods=12) * 100"
   ]
  },
  {
   "cell_type": "markdown",
   "id": "0b141551-bbc6-4093-9c2f-088eb5541ff7",
   "metadata": {},
   "source": [
    "3. Month and Year extraction:\n",
    "Enables models to learn seasonal and temporal patterns, such as higher CPI in certain months or inflation trends over years."
   ]
  },
  {
   "cell_type": "code",
   "execution_count": 13,
   "id": "aed249b9-ee90-4836-b315-f5576c4da61a",
   "metadata": {},
   "outputs": [],
   "source": [
    "# 3. Month and Year extraction\n",
    "weighted_cpi[\"Month\"] = weighted_cpi[\"Date\"].dt.month\n",
    "weighted_cpi[\"Year\"] = weighted_cpi[\"Date\"].dt.year"
   ]
  },
  {
   "cell_type": "markdown",
   "id": "7c07f529-5601-481a-95c5-85faa3481ca2",
   "metadata": {},
   "source": [
    "4. Is start of year? (January = 1):\n",
    "Highlights new-year effects, such as policy changes, resets in business cycles, or budget impacts that may influence values."
   ]
  },
  {
   "cell_type": "code",
   "execution_count": 14,
   "id": "9b051048-af06-4c6f-a8c6-612dcbdf424a",
   "metadata": {},
   "outputs": [],
   "source": [
    "# 4. Is start of year? (January = 1)\n",
    "weighted_cpi[\"Is_start_of_year\"] = (weighted_cpi[\"Month\"] == 1).astype(int)"
   ]
  },
  {
   "cell_type": "markdown",
   "id": "c6eb9d58-9d48-4d53-ad53-d865725116f0",
   "metadata": {},
   "source": [
    "5. Lag features (1, 2, 3 months):\n",
    "Introduces past dependencies which are crucial for forecasting models to recognize temporal continuity and inertia."
   ]
  },
  {
   "cell_type": "code",
   "execution_count": 15,
   "id": "2c3d8b0e-2da3-4e55-89af-ccb998c8ead3",
   "metadata": {},
   "outputs": [],
   "source": [
    "# 5. Lag features (1, 2, 3 months)\n",
    "for lag in [1, 2, 3]:\n",
    "    weighted_cpi[f\"Lag_{lag}\"] = weighted_cpi[\"Weighted_CPI\"].shift(lag)"
   ]
  },
  {
   "cell_type": "markdown",
   "id": "e0eebde1-e7cf-4672-aba5-f10576c561fd",
   "metadata": {},
   "source": [
    "6. Rolling statistics (mean and std over past 3 months):\n",
    "Smooths out short-term fluctuations and captures local trends and volatility, which improves model stability and understanding of recent context."
   ]
  },
  {
   "cell_type": "code",
   "execution_count": 16,
   "id": "95e59382-bfd2-4df5-a69c-38117c068041",
   "metadata": {},
   "outputs": [],
   "source": [
    "# 6. Rolling statistics (mean and std over past 3 months)\n",
    "weighted_cpi[\"CPI_roll_mean_3\"] = weighted_cpi[\"Weighted_CPI\"].rolling(window=3).mean()\n",
    "weighted_cpi[\"CPI_roll_std_3\"] = weighted_cpi[\"Weighted_CPI\"].rolling(window=3).std()"
   ]
  },
  {
   "cell_type": "markdown",
   "id": "a46658ac-fbb5-4209-9016-e27c4afa7855",
   "metadata": {},
   "source": [
    "7. Cyclical month features (e.g., sin/cos encoding):\n",
    "Preserves the circular nature of months (December to January), unlike plain numeric month values, improving model's ability to detect periodicity."
   ]
  },
  {
   "cell_type": "code",
   "execution_count": 17,
   "id": "85389faf-a942-4248-bf2a-cc8cb3fa09be",
   "metadata": {},
   "outputs": [],
   "source": [
    "# 7. Cyclical month features (optional, useful for some models)\n",
    "weighted_cpi[\"Month_sin\"] = np.sin(2 * np.pi * weighted_cpi[\"Month\"] / 12)\n",
    "weighted_cpi[\"Month_cos\"] = np.cos(2 * np.pi * weighted_cpi[\"Month\"] / 12)"
   ]
  },
  {
   "cell_type": "markdown",
   "id": "30576004-974a-4e35-a381-77f88b49fa2d",
   "metadata": {},
   "source": [
    "8. Drop rows with NaNs due to lag/rolling calculations:\n",
    "Ensures clean, complete data for model training, preventing errors or bias from missing values introduced by time-based feature creation."
   ]
  },
  {
   "cell_type": "code",
   "execution_count": 18,
   "id": "a201bda8-6be3-423c-9c81-d9c5cc2d39d8",
   "metadata": {},
   "outputs": [],
   "source": [
    "# 8. Drop rows with NaNs due to lag/rolling calculations\n",
    "weighted_cpi = weighted_cpi.dropna().reset_index(drop=True)"
   ]
  },
  {
   "cell_type": "code",
   "execution_count": 19,
   "id": "0b5c3c3d-ddaf-4e71-80e2-971be7704b0b",
   "metadata": {},
   "outputs": [],
   "source": [
    "#to save the feature-rich dataset for modelling\n",
    "weighted_cpi.to_csv(\"path/featured_cpi.csv\", index=False)"
   ]
  },
  {
   "cell_type": "code",
   "execution_count": null,
   "id": "9498d6a6-4c9a-4f8e-9d85-2a4fd1dcaea7",
   "metadata": {},
   "outputs": [],
   "source": []
  }
 ],
 "metadata": {
  "kernelspec": {
   "display_name": "Python [conda env:base] *",
   "language": "python",
   "name": "conda-base-py"
  },
  "language_info": {
   "codemirror_mode": {
    "name": "ipython",
    "version": 3
   },
   "file_extension": ".py",
   "mimetype": "text/x-python",
   "name": "python",
   "nbconvert_exporter": "python",
   "pygments_lexer": "ipython3",
   "version": "3.12.7"
  }
 },
 "nbformat": 4,
 "nbformat_minor": 5
}
